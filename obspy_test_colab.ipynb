{
  "nbformat": 4,
  "nbformat_minor": 0,
  "metadata": {
    "colab": {
      "name": "Untitled1.ipynb",
      "provenance": [],
      "authorship_tag": "ABX9TyOSGPvoTLD2Tf56AvvJE0if",
      "include_colab_link": true
    },
    "kernelspec": {
      "name": "python3",
      "display_name": "Python 3"
    },
    "language_info": {
      "name": "python"
    }
  },
  "cells": [
    {
      "cell_type": "markdown",
      "metadata": {
        "id": "view-in-github",
        "colab_type": "text"
      },
      "source": [
        "<a href=\"https://colab.research.google.com/github/chrisnorth/rsudp_test/blob/main/obspy_test_colab.ipynb\" target=\"_parent\"><img src=\"https://colab.research.google.com/assets/colab-badge.svg\" alt=\"Open In Colab\"/></a>"
      ]
    },
    {
      "cell_type": "code",
      "execution_count": 4,
      "metadata": {
        "id": "SFPpUS18KpKT"
      },
      "outputs": [],
      "source": [
        "try:\n",
        "  import obspy\n",
        "except:\n",
        "  !pip install obspy"
      ]
    },
    {
      "cell_type": "markdown",
      "source": [
        "# Restart the runtume\n",
        "After installing obspy, you need to restart the runtime. Select the \"Runtime\" menu, and select \"Restart runtime\".\n",
        "\n",
        "(This is due to a subtlety of how Google Colab works)"
      ],
      "metadata": {
        "id": "qC7f2wIsL0O3"
      }
    },
    {
      "cell_type": "code",
      "source": [
        "import obspy"
      ],
      "metadata": {
        "id": "s-5foTQCKq8s"
      },
      "execution_count": 1,
      "outputs": []
    },
    {
      "cell_type": "markdown",
      "source": [
        "Download the data"
      ],
      "metadata": {
        "id": "hhA5JsovMpFG"
      }
    },
    {
      "cell_type": "code",
      "source": [
        "import os\n",
        "if not os.path.isfile('query.mseed'):\n",
        "  !wget https://github.com/chrisnorth/rsudp_test/raw/main/data/query.mseed\n",
        "else:\n",
        "  print('File already downloaded to query.mseed')"
      ],
      "metadata": {
        "colab": {
          "base_uri": "https://localhost:8080/"
        },
        "id": "2A-2HC9kMwxC",
        "outputId": "5781ebe1-7137-40ff-92cb-0decf5fe5d68"
      },
      "execution_count": 5,
      "outputs": [
        {
          "output_type": "stream",
          "name": "stdout",
          "text": [
            "File already downloaded to query.mseed\n"
          ]
        }
      ]
    },
    {
      "cell_type": "markdown",
      "source": [
        "Read in the test file"
      ],
      "metadata": {
        "id": "L97H4PQgMrgO"
      }
    },
    {
      "cell_type": "code",
      "source": [
        "stream=obspy.read('query.mseed')\n",
        "stream.plot()"
      ],
      "metadata": {
        "id": "CSplLVOdLjxd"
      },
      "execution_count": 2,
      "outputs": []
    },
    {
      "cell_type": "code",
      "source": [
        ""
      ],
      "metadata": {
        "id": "7BHVIU9RLwGK"
      },
      "execution_count": null,
      "outputs": []
    }
  ]
}